{
 "cells": [
  {
   "cell_type": "code",
   "execution_count": 1,
   "id": "9d981124-fcf3-4a29-a496-458b3787065e",
   "metadata": {},
   "outputs": [],
   "source": [
    "import pandas as pd\n",
    "import os\n",
    "from dotenv import load_dotenv\n",
    "import requests\n",
    "import json\n"
   ]
  },
  {
   "cell_type": "code",
   "execution_count": 2,
   "id": "ed31a942-7cb6-44fb-b055-259669e9705a",
   "metadata": {},
   "outputs": [
    {
     "data": {
      "text/plain": [
       "True"
      ]
     },
     "execution_count": 2,
     "metadata": {},
     "output_type": "execute_result"
    }
   ],
   "source": [
    "load_dotenv()"
   ]
  },
  {
   "cell_type": "code",
   "execution_count": 3,
   "id": "612a8e42-929a-4fba-9117-94ee28748517",
   "metadata": {},
   "outputs": [
    {
     "data": {
      "text/plain": [
       "NoneType"
      ]
     },
     "execution_count": 3,
     "metadata": {},
     "output_type": "execute_result"
    }
   ],
   "source": [
    "flightaware_api = os.getenv('AERO_API_KEY')\n",
    "type(flightaware_api)"
   ]
  },
  {
   "cell_type": "code",
   "execution_count": 4,
   "id": "39da9bd2-d5a3-4510-88f2-276b09284ec4",
   "metadata": {},
   "outputs": [],
   "source": [
    "request_url = 'https://{env}.flightaware.com/aeroapi'"
   ]
  },
  {
   "cell_type": "code",
   "execution_count": 5,
   "id": "eedaef66-d346-44e3-a599-a6d1c2959db3",
   "metadata": {},
   "outputs": [
    {
     "ename": "TypeError",
     "evalue": "can only concatenate str (not \"NoneType\") to str",
     "output_type": "error",
     "traceback": [
      "\u001b[1;31m---------------------------------------------------------------------------\u001b[0m",
      "\u001b[1;31mTypeError\u001b[0m                                 Traceback (most recent call last)",
      "Input \u001b[1;32mIn [5]\u001b[0m, in \u001b[0;36m<cell line: 1>\u001b[1;34m()\u001b[0m\n\u001b[1;32m----> 1\u001b[0m flightaware_url \u001b[38;5;241m=\u001b[39m \u001b[43mrequest_url\u001b[49m\u001b[43m \u001b[49m\u001b[38;5;241;43m+\u001b[39;49m\u001b[43m \u001b[49m\u001b[43mflightaware_api\u001b[49m\n",
      "\u001b[1;31mTypeError\u001b[0m: can only concatenate str (not \"NoneType\") to str"
     ]
    }
   ],
   "source": [
    "flightaware_url = request_url + flightaware_api"
   ]
  },
  {
   "cell_type": "code",
   "execution_count": null,
   "id": "05e5476d-6523-4339-84e5-014d706f4f94",
   "metadata": {},
   "outputs": [],
   "source": [
    "response = requests.get(flig"
   ]
  }
 ],
 "metadata": {
  "kernelspec": {
   "display_name": "dev",
   "language": "python",
   "name": "dev"
  },
  "language_info": {
   "codemirror_mode": {
    "name": "ipython",
    "version": 3
   },
   "file_extension": ".py",
   "mimetype": "text/x-python",
   "name": "python",
   "nbconvert_exporter": "python",
   "pygments_lexer": "ipython3",
   "version": "3.9.7"
  }
 },
 "nbformat": 4,
 "nbformat_minor": 5
}
