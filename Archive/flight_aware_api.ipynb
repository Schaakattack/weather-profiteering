{
 "cells": [
  {
   "cell_type": "code",
   "execution_count": 1,
   "id": "9d981124-fcf3-4a29-a496-458b3787065e",
   "metadata": {},
   "outputs": [],
   "source": [
    "import pandas as pd\n",
    "import os\n",
    "from dotenv import load_dotenv\n",
    "import requests\n",
    "import json\n"
   ]
  },
  {
   "cell_type": "code",
   "execution_count": 2,
   "id": "ed31a942-7cb6-44fb-b055-259669e9705a",
   "metadata": {},
   "outputs": [
    {
     "data": {
      "text/plain": [
       "True"
      ]
     },
     "execution_count": 2,
     "metadata": {},
     "output_type": "execute_result"
    }
   ],
   "source": [
    "load_dotenv()"
   ]
  },
  {
   "cell_type": "code",
   "execution_count": 3,
   "id": "612a8e42-929a-4fba-9117-94ee28748517",
   "metadata": {},
   "outputs": [
    {
     "data": {
      "text/plain": [
       "str"
      ]
     },
     "execution_count": 3,
     "metadata": {},
     "output_type": "execute_result"
    }
   ],
   "source": [
    "flightaware_api = os.getenv('AERO_API_KEY')\n",
    "type(flightaware_api)"
   ]
  },
  {
   "cell_type": "code",
   "execution_count": 7,
   "id": "39da9bd2-d5a3-4510-88f2-276b09284ec4",
   "metadata": {},
   "outputs": [],
   "source": [
    "request_url = 'https://aeroapi.flightaware.com/aeroapi'"
   ]
  },
  {
   "cell_type": "code",
   "execution_count": 8,
   "id": "eedaef66-d346-44e3-a599-a6d1c2959db3",
   "metadata": {},
   "outputs": [],
   "source": [
    "flightaware_url = request_url + flightaware_api"
   ]
  },
  {
   "cell_type": "code",
   "execution_count": 9,
   "id": "05e5476d-6523-4339-84e5-014d706f4f94",
   "metadata": {},
   "outputs": [],
   "source": [
    "response = requests.get(flightaware_url).json()"
   ]
  },
  {
   "cell_type": "code",
   "execution_count": 10,
   "id": "a1365532-82c1-4934-8e9c-fdea931e5b8e",
   "metadata": {},
   "outputs": [
    {
     "name": "stdout",
     "output_type": "stream",
     "text": [
      "{\n",
      "    \"fault\": {\n",
      "        \"detail\": {\n",
      "            \"errorcode\": \"messaging.adaptors.http.flow.ApplicationNotFound\"\n",
      "        },\n",
      "        \"faultstring\": \"Unable to identify proxy for host: secure and url: /aeroapiAqql20YoMUSAArrzswktKG0XD9zGmu0f\"\n",
      "    }\n",
      "}\n"
     ]
    }
   ],
   "source": [
    "print(json.dumps(response, indent=4, sort_keys=True))"
   ]
  },
  {
   "cell_type": "code",
   "execution_count": null,
   "id": "cab5f339-5cea-412b-b90c-097f185ae362",
   "metadata": {},
   "outputs": [],
   "source": []
  }
 ],
 "metadata": {
  "kernelspec": {
   "display_name": "Python 3 (ipykernel)",
   "language": "python",
   "name": "python3"
  },
  "language_info": {
   "codemirror_mode": {
    "name": "ipython",
    "version": 3
   },
   "file_extension": ".py",
   "mimetype": "text/x-python",
   "name": "python",
   "nbconvert_exporter": "python",
   "pygments_lexer": "ipython3",
   "version": "3.7.13"
  }
 },
 "nbformat": 4,
 "nbformat_minor": 5
}
