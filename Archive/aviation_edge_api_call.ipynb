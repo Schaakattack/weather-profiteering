{
 "cells": [
  {
   "cell_type": "code",
   "execution_count": 1,
   "id": "b83eb21a-b515-47b5-8f83-2daa4a8a3406",
   "metadata": {},
   "outputs": [
    {
     "data": {
      "text/plain": [
       "True"
      ]
     },
     "execution_count": 1,
     "metadata": {},
     "output_type": "execute_result"
    }
   ],
   "source": [
    "# Import required libaries\n",
    "import pandas as pd\n",
    "import os\n",
    "from dotenv import load_dotenv\n",
    "import requests \n",
    "import json\n",
    "\n",
    "#Load .env variables\n",
    "load_dotenv()"
   ]
  },
  {
   "cell_type": "code",
   "execution_count": 2,
   "id": "a7f11974-82ec-4f3f-b278-71408f8538a7",
   "metadata": {},
   "outputs": [
    {
     "data": {
      "text/plain": [
       "str"
      ]
     },
     "execution_count": 2,
     "metadata": {},
     "output_type": "execute_result"
    }
   ],
   "source": [
    "aviation_edge_api_key = os.getenv('AVEDGE_API_KEY')\n",
    "type(aviation_edge_api_key)"
   ]
  },
  {
   "cell_type": "code",
   "execution_count": 6,
   "id": "f326b207-2888-4667-b8b4-30074558539f",
   "metadata": {},
   "outputs": [],
   "source": [
    "# define aviation edge url\n",
    "request_url = 'http://aviation-edge.com/v2/public/flightsHistory?key=[API_KEY]&code=JFK&type=departure&date_from=2019-01-01&date_to=2019-01-31'\n",
    "avedge_request_url = request_url + aviation_edge_api_key"
   ]
  },
  {
   "cell_type": "code",
   "execution_count": 7,
   "id": "41150804-f5aa-4c0c-9a9f-ee58223d0fc5",
   "metadata": {},
   "outputs": [
    {
     "name": "stdout",
     "output_type": "stream",
     "text": [
      "{\n",
      "    \"error\": \"Invalid API Key\",\n",
      "    \"success\": false\n",
      "}\n"
     ]
    }
   ],
   "source": [
    "# execute API call\n",
    "response = requests.get(avedge_request_url).json()\n",
    "\n",
    "# print to validate call\n",
    "print(json.dumps(response, indent=4, sort_keys=True))"
   ]
  },
  {
   "cell_type": "code",
   "execution_count": null,
   "id": "bef40c5a-6ee8-4625-9be0-8ab2254b0ec1",
   "metadata": {},
   "outputs": [],
   "source": []
  }
 ],
 "metadata": {
  "kernelspec": {
   "display_name": "Python 3 (ipykernel)",
   "language": "python",
   "name": "python3"
  },
  "language_info": {
   "codemirror_mode": {
    "name": "ipython",
    "version": 3
   },
   "file_extension": ".py",
   "mimetype": "text/x-python",
   "name": "python",
   "nbconvert_exporter": "python",
   "pygments_lexer": "ipython3",
   "version": "3.9.7"
  }
 },
 "nbformat": 4,
 "nbformat_minor": 5
}
