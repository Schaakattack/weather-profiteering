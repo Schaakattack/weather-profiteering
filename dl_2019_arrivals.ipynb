{
 "cells": [
  {
   "cell_type": "code",
   "execution_count": 1,
   "id": "75abefa3-d42f-41fe-9fa9-f807c7b31954",
   "metadata": {},
   "outputs": [],
   "source": [
    "import pandas as pd\n",
    "from pathlib import Path"
   ]
  },
  {
   "cell_type": "code",
   "execution_count": 6,
   "id": "30aaa23b-f60e-423c-9aaf-473d30c43c6d",
   "metadata": {},
   "outputs": [
    {
     "data": {
      "text/plain": [
       "Carrier Code                                 object\n",
       "Flight Number                               float64\n",
       "Tail Number                                  object\n",
       "Origin Airport                               object\n",
       "Arrival Delay (Minutes)                     float64\n",
       "Delay Carrier (Minutes)                     float64\n",
       "Delay Weather (Minutes)                     float64\n",
       "Delay National Aviation System (Minutes)    float64\n",
       "Delay Security (Minutes)                    float64\n",
       "Delay Late Aircraft Arrival (Minutes)       float64\n",
       "dtype: object"
      ]
     },
     "execution_count": 6,
     "metadata": {},
     "output_type": "execute_result"
    }
   ],
   "source": [
    "dl_atl_df = pd.read_csv(\n",
    "    Path(\"./Airline_Data/delta_atl_arrival.csv\"),\n",
    "    index_col='Date',\n",
    "    parse_dates=True,\n",
    "    infer_datetime_format=True)\n",
    "dl_atl_df.head()\n"
   ]
  },
  {
   "cell_type": "code",
   "execution_count": 10,
   "id": "09435532-7341-407e-a20f-974e3c10fd14",
   "metadata": {},
   "outputs": [
    {
     "data": {
      "text/html": [
       "<div>\n",
       "<style scoped>\n",
       "    .dataframe tbody tr th:only-of-type {\n",
       "        vertical-align: middle;\n",
       "    }\n",
       "\n",
       "    .dataframe tbody tr th {\n",
       "        vertical-align: top;\n",
       "    }\n",
       "\n",
       "    .dataframe thead th {\n",
       "        text-align: right;\n",
       "    }\n",
       "</style>\n",
       "<table border=\"1\" class=\"dataframe\">\n",
       "  <thead>\n",
       "    <tr style=\"text-align: right;\">\n",
       "      <th></th>\n",
       "      <th>Origin Airport</th>\n",
       "      <th>Arrival Delay (Minutes)</th>\n",
       "      <th>Delay Carrier (Minutes)</th>\n",
       "      <th>Delay Weather (Minutes)</th>\n",
       "      <th>Delay National Aviation System (Minutes)</th>\n",
       "      <th>Delay Security (Minutes)</th>\n",
       "      <th>Delay Late Aircraft Arrival (Minutes)</th>\n",
       "    </tr>\n",
       "    <tr>\n",
       "      <th>Date</th>\n",
       "      <th></th>\n",
       "      <th></th>\n",
       "      <th></th>\n",
       "      <th></th>\n",
       "      <th></th>\n",
       "      <th></th>\n",
       "      <th></th>\n",
       "    </tr>\n",
       "  </thead>\n",
       "  <tbody>\n",
       "    <tr>\n",
       "      <th>2019-01-01</th>\n",
       "      <td>TPA</td>\n",
       "      <td>-17.0</td>\n",
       "      <td>0.0</td>\n",
       "      <td>0.0</td>\n",
       "      <td>0.0</td>\n",
       "      <td>0.0</td>\n",
       "      <td>0.0</td>\n",
       "    </tr>\n",
       "    <tr>\n",
       "      <th>2019-01-01</th>\n",
       "      <td>DFW</td>\n",
       "      <td>-6.0</td>\n",
       "      <td>0.0</td>\n",
       "      <td>0.0</td>\n",
       "      <td>0.0</td>\n",
       "      <td>0.0</td>\n",
       "      <td>0.0</td>\n",
       "    </tr>\n",
       "    <tr>\n",
       "      <th>2019-01-01</th>\n",
       "      <td>IAH</td>\n",
       "      <td>-2.0</td>\n",
       "      <td>0.0</td>\n",
       "      <td>0.0</td>\n",
       "      <td>0.0</td>\n",
       "      <td>0.0</td>\n",
       "      <td>0.0</td>\n",
       "    </tr>\n",
       "    <tr>\n",
       "      <th>2019-01-01</th>\n",
       "      <td>TPA</td>\n",
       "      <td>-11.0</td>\n",
       "      <td>0.0</td>\n",
       "      <td>0.0</td>\n",
       "      <td>0.0</td>\n",
       "      <td>0.0</td>\n",
       "      <td>0.0</td>\n",
       "    </tr>\n",
       "    <tr>\n",
       "      <th>2019-01-01</th>\n",
       "      <td>DTW</td>\n",
       "      <td>10.0</td>\n",
       "      <td>0.0</td>\n",
       "      <td>0.0</td>\n",
       "      <td>0.0</td>\n",
       "      <td>0.0</td>\n",
       "      <td>0.0</td>\n",
       "    </tr>\n",
       "  </tbody>\n",
       "</table>\n",
       "</div>"
      ],
      "text/plain": [
       "           Origin Airport  Arrival Delay (Minutes)  Delay Carrier (Minutes)  \\\n",
       "Date                                                                          \n",
       "2019-01-01            TPA                    -17.0                      0.0   \n",
       "2019-01-01            DFW                     -6.0                      0.0   \n",
       "2019-01-01            IAH                     -2.0                      0.0   \n",
       "2019-01-01            TPA                    -11.0                      0.0   \n",
       "2019-01-01            DTW                     10.0                      0.0   \n",
       "\n",
       "            Delay Weather (Minutes)  Delay National Aviation System (Minutes)  \\\n",
       "Date                                                                            \n",
       "2019-01-01                      0.0                                       0.0   \n",
       "2019-01-01                      0.0                                       0.0   \n",
       "2019-01-01                      0.0                                       0.0   \n",
       "2019-01-01                      0.0                                       0.0   \n",
       "2019-01-01                      0.0                                       0.0   \n",
       "\n",
       "            Delay Security (Minutes)  Delay Late Aircraft Arrival (Minutes)  \n",
       "Date                                                                         \n",
       "2019-01-01                       0.0                                    0.0  \n",
       "2019-01-01                       0.0                                    0.0  \n",
       "2019-01-01                       0.0                                    0.0  \n",
       "2019-01-01                       0.0                                    0.0  \n",
       "2019-01-01                       0.0                                    0.0  "
      ]
     },
     "execution_count": 10,
     "metadata": {},
     "output_type": "execute_result"
    }
   ],
   "source": [
    "weather_delay_df = dl_atl_df.drop(columns=['Carrier Code', \n",
    "    'Flight Number',\n",
    "    'Tail Number',])\n",
    "weather_delay_df.head()"
   ]
  },
  {
   "cell_type": "code",
   "execution_count": null,
   "id": "68c263ba-6943-4e5c-afbe-b442764eeaed",
   "metadata": {},
   "outputs": [],
   "source": []
  }
 ],
 "metadata": {
  "kernelspec": {
   "display_name": "dev",
   "language": "python",
   "name": "dev"
  },
  "language_info": {
   "codemirror_mode": {
    "name": "ipython",
    "version": 3
   },
   "file_extension": ".py",
   "mimetype": "text/x-python",
   "name": "python",
   "nbconvert_exporter": "python",
   "pygments_lexer": "ipython3",
   "version": "3.9.7"
  }
 },
 "nbformat": 4,
 "nbformat_minor": 5
}
